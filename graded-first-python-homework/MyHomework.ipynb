{
 "cells": [
  {
   "cell_type": "code",
   "execution_count": 1,
   "metadata": {
    "collapsed": false
   },
   "outputs": [
    {
     "name": "stdout",
     "output_type": "stream",
     "text": [
      "True True True True\n",
      "True True False False\n",
      "True False True True\n",
      "True False False True\n",
      "False True True True\n",
      "False True False False\n",
      "False False True True\n",
      "False False False False\n"
     ]
    }
   ],
   "source": [
    "class truth1():\n",
    "    for p in [True,False]:\n",
    "        for q in [True,False]:\n",
    "            for r in [True,False]:\n",
    "                print(p,q,r, p and not(q) or r)"
   ]
  },
  {
   "cell_type": "code",
   "execution_count": 2,
   "metadata": {
    "collapsed": false
   },
   "outputs": [
    {
     "name": "stdout",
     "output_type": "stream",
     "text": [
      "True True True True\n",
      "True True False False\n",
      "True False True True\n",
      "True False False True\n",
      "False True True True\n",
      "False True False True\n",
      "False False True True\n",
      "False False False True\n"
     ]
    }
   ],
   "source": [
    "class truth2():\n",
    "    for p in [True,False]:\n",
    "        for q in [True,False]:\n",
    "            for r in [True,False]:\n",
    "                print(p,q,r, (not(p) or r) or (not(q) or r) )"
   ]
  },
  {
   "cell_type": "code",
   "execution_count": 3,
   "metadata": {
    "collapsed": false
   },
   "outputs": [
   ],
   "source": [
    "def wallis(N):\n",
    "    k = 1\n",
    "    x = 1\n",
    "    for k in range (1,N):\n",
    "        prod1 = ( (2*k) / (2*k-1) )\n",
    "        prod2 = ( (2*k) / (2*k+1) )\n",
    "        x = x * (prod1 * prod2)\n",
    "    print(x)"
   ]
  },
  {
   "cell_type": "code",
   "execution_count": 4,
   "metadata": {
    "collapsed": false
   },
   "outputs": [
    {
     "name": "stdout",
     "output_type": "stream",
     "text": [
      "1.5300172735634445\n"
     ]
    }
   ],
   "source": [
    "wallis(10)"
   ]
  },
  {
   "cell_type": "code",
   "execution_count": 5,
   "metadata": {
    "collapsed": false
   },
   "outputs": [
    {
     "name": "stdout",
     "output_type": "stream",
     "text": [
      "1.5507886317191344\n"
     ]
    }
   ],
   "source": [
    "wallis(20)"
   ]
  },
  {
   "cell_type": "code",
   "execution_count": 6,
   "metadata": {
    "collapsed": false
   },
   "outputs": [
    {
     "name": "stdout",
     "output_type": "stream",
     "text": [
      "1.5668545729704466\n"
     ]
    }
   ],
   "source": [
    "wallis(100)"
   ]
  },
  {
   "cell_type": "code",
   "execution_count": 0,
   "metadata": {
    "collapsed": false
   },
   "outputs": [
   ],
   "source": [
   ]
  },
  {
   "cell_type": "code",
   "execution_count": 0,
   "metadata": {
    "collapsed": false
   },
   "outputs": [
   ],
   "source": [
   ]
  },
  {
   "cell_type": "code",
   "execution_count": 0,
   "metadata": {
    "collapsed": false
   },
   "outputs": [
   ],
   "source": [
   ]
  },
  {
   "cell_type": "code",
   "execution_count": 0,
   "metadata": {
    "collapsed": false
   },
   "outputs": [
   ],
   "source": [
   ]
  }
 ],
 "metadata": {
  "kernelspec": {
   "display_name": "Python 3 (system-wide)",
   "language": "python",
   "metadata": {
    "cocalc": {
     "description": "Python 3 programming language",
     "priority": 100,
     "url": "https://www.python.org/"
    }
   },
   "name": "python3",
   "resource_dir": "/ext/jupyter/kernels/python3"
  },
  "language_info": {
   "codemirror_mode": {
    "name": "ipython",
    "version": 3
   },
   "file_extension": ".py",
   "mimetype": "text/x-python",
   "name": "python",
   "nbconvert_exporter": "python",
   "pygments_lexer": "ipython3",
   "version": "3.8.10"
  }
 },
 "nbformat": 4,
 "nbformat_minor": 4
}