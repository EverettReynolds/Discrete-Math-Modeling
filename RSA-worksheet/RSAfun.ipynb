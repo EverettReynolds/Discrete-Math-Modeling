{
 "cells": [
  {
   "cell_type": "markdown",
   "metadata": {
    "collapsed": false
   },
   "source": [
   ]
  },
  {
   "cell_type": "markdown",
   "metadata": {
    "collapsed": false
   },
   "source": [
   ]
  },
  {
   "cell_type": "markdown",
   "metadata": {
    "collapsed": false
   },
   "source": [
    "\n",
    "# RSA Secret-Sharing Activity\n",
    "\n",
    "In this activity, groups of students will set up the RSA keys and practice encoding and decoding messages between groups.\n",
    "\n",
    "** Be sure your Kernel for this activity is set to **SageMath 9.4**.\n",
    "\n",
    "### Step 1: Setup\n",
    "\n",
    "1.   Pick two prime numbers, $p$ and $q$. \n",
    "- Keep these secret: $p =$ \\_\\_\\_\\_\\_ $q =$ \\_\\_\\_\\_\\_.\n",
    "- Try `random_prime(2^50,lbound=100)` if you need help choosing a prime.\n",
    "2.   Find the number $b = \\text{lcm} ((p-1)\\cdot(q-1))$.\n",
    "- $b =$ \\_\\_\\_\\_\\_\\_\\_\\_\\_. Keep b secret, too.\n",
    "3.   Find the number $n = p\\cdot q$.\n",
    "- $n =$ \\_\\_\\_\\_\\_\\_\\_\\_\\_. You will want to\n",
    "    publicize $n$.\n",
    "4.   Now, pick a public-key exponent $e$, such that $e$ and $n$ are relatively prime.\n",
    "- $e =$ \\_\\_\\_\\_\\_\\_\\_\\_\\_.  You will want to publicize $e$.\n",
    "5.   Finally, find your secret private-key exponent $d$. To do this, find\n",
    "    the number $d$ such that $e\\cdot d\\, (\\text{mod } b) = 1$.\n",
    "  - Here we need to do the extended Euclidean algorithm to find integers $u,v$ so that $1=e\\cdot u + b\\cdot v$.\n",
    "  - We know how to do this by hand, but SageMath can do it using the `xgcd` command.\n",
    "  - The syntax is `xgcd(e,b)` and this will return a triple `(gcd(e,b),u,v)` where $$\\text{gcd}(e,b)=e\\cdot u + b\\cdot v.$$  \n",
    "  - Remember that if $u$ is negative, just add $b$ until you get a positive value.  This will be your private key $d$.\n",
    "  - $d =$ \\_\\_\\_\\_\\_\\_\\_\\_\\_. Do NOT tell anyone $d$.\n",
    "\n",
    "****\n",
    "\n",
    "### Step 2: Secret sharing\n",
    "\n",
    "1.   Find another team with whom you want to exchange messages, and tell them your modulus $n$ and your public-key exponent $e$. They should also tell you their modulus (call it $n_2$) and their public-key exponent (call it $e_2$). \n",
    "- Their key: $n_2$ = \\_\\_\\_\\_\\_\\_\\_, $e_2$ = \\_\\_\\_\\_\\_\\_\\_\\_.\n",
    "2.   To send a message, convert it to numbers using the `StringToInt` command along with the `map` and `list` commands.\n",
    "\n",
    "```\n",
    "message='hello'\n",
    "plaintext=list(map(StringToInt,message))\n",
    "```\n",
    "\n",
    "3. Your message: \\_\\_\\_\\_\\_\\_\\_\\_\\_\\_\\_\\_\\_\\_\\_\\_\\_\\_\\_\\_\\_\\_\\_\\_\n",
    "\n",
    "- Its numerical equivalent: \\_\\_\\_\\_\\_\\_\\_\\_\\_\\_\\_\\_\\_\\_\\_\\_\\_\\_\\_\\_\\_\\_\\_\\_\n",
    "\n",
    "4. For each number $m$ in your `plaintext` variable, calculate $m^{e_2} (\\text{mod } n_2)$. Write a function to do this encoding.  Then, you can map it to the list.  Call the result `ciphertext`.  This is your encoded message.  Note: _You are encoding the message using the other team's public key_.\n",
    "```\n",
    "def encode(m,e2,n2):\n",
    "  your code here...\n",
    "```\n",
    "5. Your encrypted message: \\_\\_\\_\\_\\_\\_\\_\\_\\_\\_\\_\\_\\_\\_\\_\\_\\_\\_\\_\\_\\_\\_\\_\\_\n",
    "\n",
    "6.   Then, give your encrypted message to the team from whom you got $n_2,e_2$. They should give you a sequence of numbers as well.\n",
    "- Their encrypted message:\\_\\_\\_\\_\\_\\_\\_\\_\\_\\_\\_\\_\\_\\_\\_\\_\\_\\_\\_\\_\\_\\_\\_\\_\n",
    "\n",
    "7.   Now, to decrypt their message, use your secret exponent $d$. For each\n",
    "    number $c$ in their message, compute $c^{d} (\\text{mod } n)$. Write a function to do this decoding.  Then, you can map it to the list.  _Note that you are decoding the message using your private key_.\n",
    "    This will reveal the numbers in their original message!\n",
    "```\n",
    "def decode(c,d,n):\n",
    "  your code here...\n",
    "```\n",
    "8. Use `IntToString` to convert these back to letters to get their message to you.\n",
    "9. Their message: \\_\\_\\_\\_\\_\\_\\_\\_\\_\\_\\_\\_\\_\\_\\_\\_\\_\\_\\_\\_\\_\\_\\_\\_\n",
    "\n",
    "\n"
   ]
  },
  {
   "cell_type": "markdown",
   "metadata": {
    "collapsed": false
   },
   "source": [
    "## Your Computations"
   ]
  },
  {
   "cell_type": "code",
   "execution_count": 31,
   "metadata": {
    "collapsed": false
   },
   "outputs": [
   ],
   "source": [
    "reset()"
   ]
  },
  {
   "cell_type": "code",
   "execution_count": 32,
   "metadata": {
    "collapsed": false
   },
   "outputs": [
   ],
   "source": [
    "def StringToInt(x):\n",
    "    return(ord(x)-97)"
   ]
  },
  {
   "cell_type": "code",
   "execution_count": 33,
   "metadata": {
    "collapsed": false
   },
   "outputs": [
   ],
   "source": [
    "def IntToString(c):\n",
    "    return(chr(c+97))"
   ]
  },
  {
   "cell_type": "code",
   "execution_count": 47,
   "metadata": {
    "collapsed": false,
    "scrolled": true
   },
   "outputs": [
    {
     "name": "stdout",
     "output_type": "stream",
     "text": [
      "n value: : 74636091992231948717846227514573665778735817791702130340591\n",
      "(1, 3729936007376654682472328943637510211958140719628491582037, -187336832064819496683617518141)\n"
     ]
    }
   ],
   "source": [
    "\n",
    "p = 164436896198445033644257876483\n",
    "q = 453888961162097942722516755877\n",
    "b = lcm(p-1,q-1)\n",
    "#print(b)\n",
    "n = p*q\n",
    "print(\"n value: :\" , n)\n",
    "e = 624768941695467311147319169769\n",
    "d = xgcd(e,b)\n",
    "print(d)\n",
    "ex1 = gcd(e,b)\n",
    "ex2 = (e*3729936007376654682472328943637510211958140719628491582037)+(b*-187336832064819496683617518141)\n",
    "#print(ex1)\n",
    "#print(ex2)\n",
    "\n"
   ]
  },
  {
   "cell_type": "code",
   "execution_count": 48,
   "metadata": {
    "collapsed": false
   },
   "outputs": [
    {
     "data": {
      "text/plain": [
       "<class 'sage.rings.integer.Integer'>"
      ]
     },
     "execution_count": 48,
     "metadata": {
     },
     "output_type": "execute_result"
    }
   ],
   "source": [
    "type(b)"
   ]
  },
  {
   "cell_type": "code",
   "execution_count": 23,
   "metadata": {
    "collapsed": false
   },
   "outputs": [
    {
     "data": {
      "text/plain": [
       "(1, -10, 7)"
      ]
     },
     "execution_count": 23,
     "metadata": {
     },
     "output_type": "execute_result"
    }
   ],
   "source": [
    "xgcd(23,33)"
   ]
  },
  {
   "cell_type": "code",
   "execution_count": 34,
   "metadata": {
    "collapsed": false
   },
   "outputs": [
    {
     "data": {
      "text/plain": [
       "462"
      ]
     },
     "execution_count": 34,
     "metadata": {
     },
     "output_type": "execute_result"
    }
   ],
   "source": [
    "lcm(21,22)"
   ]
  },
  {
   "cell_type": "code",
   "execution_count": 35,
   "metadata": {
    "collapsed": false
   },
   "outputs": [
    {
     "ename": "NameError",
     "evalue": "name 'p' is not defined",
     "output_type": "error",
     "traceback": [
      "\u001b[0;31m---------------------------------------------------------------------------\u001b[0m",
      "\u001b[0;31mNameError\u001b[0m                                 Traceback (most recent call last)",
      "\u001b[0;32m/ext/sage/9.4/local/lib/python3.9/site-packages/sage/all_cmdline.py\u001b[0m in \u001b[0;36m<module>\u001b[0;34m\u001b[0m\n\u001b[0;32m----> 1\u001b[0;31m \u001b[0mlcm\u001b[0m\u001b[0;34m(\u001b[0m\u001b[0mp\u001b[0m\u001b[0;34m,\u001b[0m\u001b[0mq\u001b[0m\u001b[0;34m)\u001b[0m\u001b[0;34m\u001b[0m\u001b[0;34m\u001b[0m\u001b[0m\n\u001b[0m",
      "\u001b[0;31mNameError\u001b[0m: name 'p' is not defined"
     ]
    }
   ],
   "source": [
    "lcm(p,q)"
   ]
  },
  {
   "cell_type": "code",
   "execution_count": 0,
   "metadata": {
    "collapsed": false
   },
   "outputs": [
   ],
   "source": [
   ]
  }
 ],
 "metadata": {
  "kernelspec": {
   "display_name": "SageMath 9.4",
   "language": "sagemath",
   "metadata": {
    "cocalc": {
     "description": "Open-source mathematical software system",
     "priority": 10,
     "url": "https://www.sagemath.org/"
    }
   },
   "name": "sage-9.4",
   "resource_dir": "/ext/jupyter/kernels/sage-9.4"
  },
  "language_info": {
   "codemirror_mode": {
    "name": "ipython",
    "version": 3
   },
   "file_extension": ".py",
   "mimetype": "text/x-python",
   "name": "python",
   "nbconvert_exporter": "python",
   "pygments_lexer": "ipython3",
   "version": "3.9.5"
  }
 },
 "nbformat": 4,
 "nbformat_minor": 4
}