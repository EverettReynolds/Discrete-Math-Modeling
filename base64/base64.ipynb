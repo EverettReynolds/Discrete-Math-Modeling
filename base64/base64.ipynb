{
 "cells": [
  {
   "cell_type": "code",
   "execution_count": 0,
   "metadata": {
    "collapsed": false
   },
   "outputs": [
   ],
   "source": [
   ]
  },
  {
   "cell_type": "markdown",
   "metadata": {
    "collapsed": false
   },
   "source": [
    "## Base 64 Encoding Assignment"
   ]
  },
  {
   "cell_type": "code",
   "execution_count": 1,
   "metadata": {
    "collapsed": false
   },
   "outputs": [
   ],
   "source": [
    "# items to load\n",
    "\n",
    "def binary8bit(n):\n",
    "    ans=format(n,'b').zfill(8)\n",
    "    return(ans)\n",
    "\n",
    "# Use for encoding from integers to letters via ASCII codes\n",
    "\n",
    "alpha={i:chr(65+i) for i in range(26)}\n",
    "beta={i+26:chr(97+i) for i in range(26)}\n",
    "gamma={i+52:chr(48+i) for i in range(10)}\n",
    "delta={62:'+',63:'/'}\n",
    "alpha.update(beta)\n",
    "alpha.update(gamma)\n",
    "alpha.update(delta)\n",
    "def text(t):\n",
    "    return(alpha[t])\n"
   ]
  },
  {
   "cell_type": "code",
   "execution_count": 3,
   "metadata": {
    "collapsed": false
   },
   "outputs": [
    {
     "data": {
      "text/plain": [
       "'00001010'"
      ]
     },
     "execution_count": 3,
     "metadata": {
     },
     "output_type": "execute_result"
    }
   ],
   "source": [
    "binary8bit(10)"
   ]
  },
  {
   "cell_type": "code",
   "execution_count": 54,
   "metadata": {
    "collapsed": false
   },
   "outputs": [
    {
     "name": "stdout",
     "output_type": "stream",
     "text": [
      "01000100\n",
      "0100010001101001\n",
      "010001000110100101110011\n",
      "01000100011010010111001101100011\n",
      "0100010001101001011100110110001101110010\n",
      "010001000110100101110011011000110111001001100101\n",
      "01000100011010010111001101100011011100100110010101110100\n",
      "0100010001101001011100110110001101110010011001010111010001100101\n",
      "010001000110100101110011011000110111001001100101011101000110010101001101\n",
      "01000100011010010111001101100011011100100110010101110100011001010100110101100001\n",
      "0100010001101001011100110110001101110010011001010111010001100101010011010110000101110100\n",
      "010001000110100101110011011000110111001001100101011101000110010101001101011000010111010001101000\n",
      "01000100011010010111001101100011011100100110010101110100011001010100110101100001011101000110100001100101\n",
      "0100010001101001011100110110001101110010011001010111010001100101010011010110000101110100011010000110010101101101\n",
      "010001000110100101110011011000110111001001100101011101000110010101001101011000010111010001101000011001010110110101100001\n",
      "01000100011010010111001101100011011100100110010101110100011001010100110101100001011101000110100001100101011011010110000101110100\n",
      "0100010001101001011100110110001101110010011001010111010001100101010011010110000101110100011010000110010101101101011000010111010001101001\n",
      "010001000110100101110011011000110111001001100101011101000110010101001101011000010111010001101000011001010110110101100001011101000110100101100011\n",
      "01000100011010010111001101100011011100100110010101110100011001010100110101100001011101000110100001100101011011010110000101110100011010010110001101110011\n",
      "0100010001101001011100110110001101110010011001010111010001100101010011010110000101110100011010000110010101101101011000010111010001101001011000110111001101001001\n",
      "010001000110100101110011011000110111001001100101011101000110010101001101011000010111010001101000011001010110110101100001011101000110100101100011011100110100100101110011\n",
      "01000100011010010111001101100011011100100110010101110100011001010100110101100001011101000110100001100101011011010110000101110100011010010110001101110011010010010111001101000110\n",
      "0100010001101001011100110110001101110010011001010111010001100101010011010110000101110100011010000110010101101101011000010111010001101001011000110111001101001001011100110100011001110101\n",
      "010001000110100101110011011000110111001001100101011101000110010101001101011000010111010001101000011001010110110101100001011101000110100101100011011100110100100101110011010001100111010101101110\n",
      "010001000110100101110011011000110111001001100101011101000110010101001101011000010111010001101000011001010110110101100001011101000110100101100011011100110100100101110011010001100111010101101110\n",
      "['010001', '000110', '100101', '110011', '011000', '110111', '001001', '100101', '011101', '000110', '010101', '001101', '011000', '010111', '010001', '101000', '011001', '010110', '110101', '100001', '011101', '000110', '100101', '100011', '011100', '110100', '100101', '110011', '010001', '100111', '010101', '101110']\n",
      "[17, 6, 37, 51, 24, 55, 9, 37, 29, 6, 21, 13, 24, 23, 17, 40, 25, 22, 53, 33, 29, 6, 37, 35, 28, 52, 37, 51, 17, 39, 21, 46]\n",
      "RGlzY3JldGVNYXRoZW1hdGljc0lzRnVu\n"
     ]
    }
   ],
   "source": [
    "def binary8bit(n):\n",
    "    ans=format(n,'b').zfill(8)\n",
    "    return(ans)\n",
    "\n",
    "def bin(n):\n",
    "    bins = list(map(int,n))\n",
    "    decs = bins[0]*2**5+bins[1]*2**4+bins[2]*2**3+bins[3]*2**2+bins[4]*2**1+bins[5]*2**0\n",
    "    return decs\n",
    "\n",
    "def bin_to_dec(b):\n",
    "    digits=list(map(int,b))\n",
    "    dec=digits[0]*2**5+digits[1]*2**4+digits[2]*2**3+digits[3]*2**2+digits[4]*2**1+digits[5]*2**0\n",
    "    return(dec)\n",
    "\n",
    "alpha={i:chr(65+i) for i in range(26)}\n",
    "beta={i+26:chr(97+i) for i in range(26)}\n",
    "gamma={i+52:chr(48+i) for i in range(10)}\n",
    "delta={62:'+',63:'/'}\n",
    "alpha.update(beta)\n",
    "alpha.update(gamma)\n",
    "alpha.update(delta)\n",
    "def text(t):\n",
    "    return(alpha[t])\n",
    "\n",
    "S = 'DiscreteMathematicsIsFun'\n",
    "length = 6\n",
    "answ = map(ord,S)\n",
    "answ = list(answ)\n",
    "\n",
    "string=''\n",
    "for x in range(len(answ)):\n",
    "    string += binary8bit(answ[x])\n",
    "    print(string)\n",
    "print(string)\n",
    "\n",
    "portion = [string[i:i+length] for i in range(0,len(string),length)]\n",
    "print(portion)\n",
    "\n",
    "\n",
    "intString = list(map(bin,portion))\n",
    "print(intString)\n",
    "\n",
    "message=''\n",
    "for z in range(len(intString)):\n",
    "    message += text(intString[z])\n",
    "print(message)\n",
    "\n",
    "\n",
    "\n"
   ]
  },
  {
   "cell_type": "code",
   "execution_count": 0,
   "metadata": {
    "collapsed": false
   },
   "outputs": [
   ],
   "source": [
   ]
  },
  {
   "cell_type": "code",
   "execution_count": 0,
   "metadata": {
    "collapsed": false
   },
   "outputs": [
   ],
   "source": [
   ]
  }
 ],
 "metadata": {
  "kernelspec": {
   "display_name": "SageMath 9.4",
   "language": "sagemath",
   "metadata": {
    "cocalc": {
     "description": "Open-source mathematical software system",
     "priority": 10,
     "url": "https://www.sagemath.org/"
    }
   },
   "name": "sage-9.4",
   "resource_dir": "/ext/jupyter/kernels/sage-9.4"
  },
  "language_info": {
   "codemirror_mode": {
    "name": "ipython",
    "version": 3
   },
   "file_extension": ".py",
   "mimetype": "text/x-python",
   "name": "python",
   "nbconvert_exporter": "python",
   "pygments_lexer": "ipython3",
   "version": "3.9.5"
  }
 },
 "nbformat": 4,
 "nbformat_minor": 4
}