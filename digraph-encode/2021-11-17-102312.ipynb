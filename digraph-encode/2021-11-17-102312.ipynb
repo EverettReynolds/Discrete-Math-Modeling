{
 "cells": [
  {
   "cell_type": "code",
   "execution_count": 16,
   "metadata": {
    "collapsed": false
   },
   "outputs": [
    {
     "name": "stdout",
     "output_type": "stream",
     "text": [
      "[[7, 1], [11, 2], [3, 11], [24, 3], [3, 19], [8, 19], [7, 16], [0, 13], [7, 1], [5, 23], [17, 24], [5, 0], [17, 3], [10, 2], [17, 24], [23, 13]]\n",
      " \n",
      "[183, 288, 89, 627, 97, 227, 198, 13, 183, 153, 466, 130, 445, 262, 466, 611]\n",
      " \n",
      "[2748, 4323, 1338, 9408, 1458, 3408, 2973, 198, 2748, 2298, 6993, 1953, 6678, 3933, 6993, 9168]\n",
      " \n",
      "[183, 288, 89, 627, 97, 227, 198, 13, 183, 153, 466, 130, 445, 262, 466, 611]\n",
      " \n",
      "·ĠYɳaãÆ\r·ǒƽĆǒɣ\n"
     ]
    }
   ],
   "source": [
    "def StringToInteger(x):\n",
    "    return(ord(x) - 97)\n",
    "\n",
    "def IntegerToString(n):\n",
    "    return(chr(n+97) )\n",
    "\n",
    "def shifting(x):\n",
    "    return(x-97)\n",
    "\n",
    "def shifter(x):\n",
    "    return(x+97)\n",
    "\n",
    "def chunking(list,x):\n",
    "    for i in range(0,len(list),x):\n",
    "        yield list[i:i + x]\n",
    "\n",
    "def convertDigh(x):\n",
    "    if(len(x)%2!=0):\n",
    "        x=x+\"Q\"\n",
    "    ASCII=list(map(ord,x))\n",
    "    shiftlist = list(map(shifting,ASCII))\n",
    "    chunks = list(chunking(shiftlist,2))\n",
    "    return chunks\n",
    "\n",
    "def baseconvert(digh):\n",
    "    print(digh)\n",
    "    dighcon = []\n",
    "    for i in range(0,len(digh)):\n",
    "        val = ((digh[i][0]*26+digh[i][1]))\n",
    "        dighcon.append(val)\n",
    "    return dighcon\n",
    "\n",
    "def encode(dighcon):\n",
    "    for i in range(0,len(dighcon)):\n",
    "        dighcon[i] = (15*dighcon[i])+3%676\n",
    "    return dighcon\n",
    "def decode(dighen):\n",
    "    for i in range(0,len(dighen)):\n",
    "        dighen[i] = 631 * (dighen[i] - 3) % 676\n",
    "    return dighen\n",
    "\n",
    "string = \"hblcdlyddtithqanhbfxryfardkcryxn\"\n",
    "\n",
    "dighList = convertDigh(string)\n",
    "\n",
    "converted = baseconvert(dighList)\n",
    "print(\" \")\n",
    "print(converted)\n",
    "print(\" \")\n",
    "encoded = encode(converted)\n",
    "print(encoded)\n",
    "print(\" \")\n",
    "decoded = decode(encoded)\n",
    "print(decoded)\n",
    "print(\" \")\n",
    "message = \"\"\n",
    "for val in decoded:\n",
    "    message = message + chr(val)\n",
    "print(str(message))\n",
    "exam = \"\"\n",
    "\n",
    "\n",
    "\n",
    "\n",
    "#for i in range(0,len(message)):\n",
    "    #based = message[i] // 26- digh[i+1]\n",
    "\n",
    "#forval in range(0,600):\n",
    "#   print(val, \" Is \" , chr(val))"
   ]
  },
  {
   "cell_type": "code",
   "execution_count": 0,
   "metadata": {
    "collapsed": false
   },
   "outputs": [
   ],
   "source": [
   ]
  },
  {
   "cell_type": "code",
   "execution_count": 0,
   "metadata": {
    "collapsed": false
   },
   "outputs": [
   ],
   "source": [
   ]
  }
 ],
 "metadata": {
  "kernelspec": {
   "display_name": "Python 3 (system-wide)",
   "language": "python",
   "metadata": {
    "cocalc": {
     "description": "Python 3 programming language",
     "priority": 100,
     "url": "https://www.python.org/"
    }
   },
   "name": "python3",
   "resource_dir": "/ext/jupyter/kernels/python3"
  },
  "language_info": {
   "codemirror_mode": {
    "name": "ipython",
    "version": 3
   },
   "file_extension": ".py",
   "mimetype": "text/x-python",
   "name": "python",
   "nbconvert_exporter": "python",
   "pygments_lexer": "ipython3",
   "version": "3.8.10"
  }
 },
 "nbformat": 4,
 "nbformat_minor": 4
}