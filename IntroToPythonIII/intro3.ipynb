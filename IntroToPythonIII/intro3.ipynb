{
 "cells": [
  {
   "cell_type": "markdown",
   "metadata": {
    "collapsed": false
   },
   "source": [
    "## More practice with lists"
   ]
  },
  {
   "cell_type": "code",
   "execution_count": 16,
   "metadata": {
    "collapsed": false
   },
   "outputs": [
    {
     "name": "stdout",
     "output_type": "stream",
     "text": [
      "['Woodstock', 'Everett', 20, 6, 5, 4, 3, 2, 1]\n",
      "Everett\n"
     ]
    }
   ],
   "source": [
    "list = [1,2,3,4,5,6]\n",
    "list.append(20)\n",
    "list.append(\"Everett\")\n",
    "list.append(\"Woodstock\")\n",
    "list.reverse()\n",
    "print(list)\n",
    "list.pop(3)\n",
    "print(list[1])\n",
    "list2 = [42,27,59,81]\n",
    "\n",
    "def square(num):\n",
    "    return num*num\n",
    "\n",
    "list3 = map(square,list2)\n",
    "\n"
   ]
  },
  {
   "cell_type": "code",
   "execution_count": 0,
   "metadata": {
    "collapsed": false
   },
   "outputs": [
   ],
   "source": [
   ]
  }
 ],
 "metadata": {
  "kernelspec": {
   "display_name": "Python 3 (system-wide)",
   "language": "python",
   "metadata": {
    "cocalc": {
     "description": "Python 3 programming language",
     "priority": 100,
     "url": "https://www.python.org/"
    }
   },
   "name": "python3",
   "resource_dir": "/ext/jupyter/kernels/python3"
  },
  "language_info": {
   "codemirror_mode": {
    "name": "ipython",
    "version": 3
   },
   "file_extension": ".py",
   "mimetype": "text/x-python",
   "name": "python",
   "nbconvert_exporter": "python",
   "pygments_lexer": "ipython3",
   "version": "3.8.10"
  }
 },
 "nbformat": 4,
 "nbformat_minor": 4
}