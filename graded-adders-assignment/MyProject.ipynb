{
 "cells": [
  {
   "cell_type": "markdown",
   "metadata": {
    "collapsed": false
   },
   "source": [
    "## Example\n",
    "Here is some example code to show a nice way to pass multiple results out of a function."
   ]
  },
  {
   "cell_type": "code",
   "execution_count": 4,
   "metadata": {
    "collapsed": false
   },
   "outputs": [
   ],
   "source": [
    "def example(p,q):\n",
    "    s=p and q\n",
    "    c=p or q\n",
    "    return (c,s)"
   ]
  },
  {
   "cell_type": "code",
   "execution_count": 7,
   "metadata": {
    "collapsed": false
   },
   "outputs": [
   ],
   "source": [
    "(C1,S1)=example(True,False)"
   ]
  },
  {
   "cell_type": "code",
   "execution_count": 8,
   "metadata": {
    "collapsed": false
   },
   "outputs": [
    {
     "data": {
      "text/plain": [
       "True"
      ]
     },
     "execution_count": 8,
     "metadata": {
     },
     "output_type": "execute_result"
    }
   ],
   "source": [
    "C1"
   ]
  },
  {
   "cell_type": "code",
   "execution_count": 9,
   "metadata": {
    "collapsed": false
   },
   "outputs": [
    {
     "data": {
      "text/plain": [
       "False"
      ]
     },
     "execution_count": 9,
     "metadata": {
     },
     "output_type": "execute_result"
    }
   ],
   "source": [
    "S1"
   ]
  },
  {
   "cell_type": "markdown",
   "metadata": {
    "collapsed": false
   },
   "source": [
    "# Do your assignment below here."
   ]
  },
  {
   "cell_type": "code",
   "execution_count": 1,
   "metadata": {
    "collapsed": false
   },
   "outputs": [
    {
     "name": "stdout",
     "output_type": "stream",
     "text": [
      "True True (True, False)\n",
      "True False (False, True)\n",
      "False True (False, True)\n",
      "False False (False, False)\n"
     ]
    }
   ],
   "source": [
    "\n",
    "def halfAdder(p,q):\n",
    "    s1 = (p and not(q)) or (not(p) and q)\n",
    "    c1 = p and q\n",
    "    return (c1,s1)\n",
    "for p in [True,False]:\n",
    "    for q in [True,False]:\n",
    "        print(p,q,halfAdder(p,q))"
   ]
  },
  {
   "cell_type": "code",
   "execution_count": 2,
   "metadata": {
    "collapsed": false
   },
   "outputs": [
    {
     "name": "stdout",
     "output_type": "stream",
     "text": [
      "True True True (True, True)\n",
      "True True False (True, False)\n",
      "True False True (True, False)\n",
      "True False False (False, True)\n",
      "False True True (True, False)\n",
      "False True False (False, True)\n",
      "False False True (False, True)\n",
      "False False False (False, False)\n"
     ]
    }
   ],
   "source": [
    "\n",
    "def fullAdder(p,q,r):\n",
    "    c1, s1 = halfAdder(p,q)\n",
    "    c2, s2 = halfAdder(s1,r)\n",
    "    c3 = c1 or c2\n",
    "    return(c3,s2)\n",
    "for p in [True,False]:\n",
    "    for q in [True,False]:\n",
    "        for r in [True,False]:\n",
    "            print(p,q,r,fullAdder(p,q,r))"
   ]
  },
  {
   "cell_type": "code",
   "execution_count": 3,
   "metadata": {
    "collapsed": false
   },
   "outputs": [
    {
     "name": "stdout",
     "output_type": "stream",
     "text": [
      "(False, False, False, True)\n"
     ]
    }
   ],
   "source": [
    "def parallelAdder (p,q,r,s,t,u):\n",
    "    c1, s1 = halfAdder(r,u)\n",
    "    c2, s2 = fullAdder(q,t,c1)\n",
    "    c,  s3 = fullAdder(p,s,c2)\n",
    "    return(c,s1,s2,s3)\n",
    "print(parallelAdder(False,True,True,False,False,True))"
   ]
  },
  {
   "cell_type": "code",
   "execution_count": 0,
   "metadata": {
    "collapsed": false
   },
   "outputs": [
   ],
   "source": [
   ]
  }
 ],
 "metadata": {
  "kernelspec": {
   "display_name": "SageMath 9.4",
   "language": "sagemath",
   "metadata": {
    "cocalc": {
     "description": "Open-source mathematical software system",
     "priority": 10,
     "url": "https://www.sagemath.org/"
    }
   },
   "name": "sage-9.4",
   "resource_dir": "/ext/jupyter/kernels/sage-9.4"
  },
  "language_info": {
   "codemirror_mode": {
    "name": "ipython",
    "version": 3
   },
   "file_extension": ".py",
   "mimetype": "text/x-python",
   "name": "python",
   "nbconvert_exporter": "python",
   "pygments_lexer": "ipython3",
   "version": "3.9.5"
  }
 },
 "nbformat": 4,
 "nbformat_minor": 4
}